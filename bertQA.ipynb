{
 "cells": [
  {
   "cell_type": "code",
   "execution_count": null,
   "source": [
    "from transformers import BertForQuestionAnswering\r\n",
    "from transformers import AdamW\r\n",
    "from transformers import get_linear_schedule_with_warmup\r\n",
    "import torch\r\n",
    "import torch.nn as nn\r\n",
    "import numpy as np\r\n",
    "from torch.utils.data import DataLoader\r\n",
    "from .squad_dataloader import SquadDataset\r\n",
    "from .squad_args import squad_args\r\n",
    "import random\r\n",
    "\r\n",
    "args = squad_args()\r\n",
    "device = args.device\r\n",
    "batch_size = args.batch_size\r\n",
    "n_epoch = args.n_epoch\r\n",
    "learning_rate = args.learning_rate\r\n",
    "\r\n",
    "#Load train and test dataset\r\n",
    "train_dataset = SquadDataset('./SQuAD_train.json')\r\n",
    "train_loader = DataLoader(train_dataset, batch_size= batch_size, shuffle=True, collate_fn=, drop_last= True)\r\n",
    "\r\n",
    "test_dataset = SquadDataset('./SQuAD_test.json')\r\n",
    "train_loader = DataLoader(train_dataset, batch_size= batch_size, shuffle=True, collate_fn=, drop_last= True)\r\n",
    "\r\n",
    "#Load model\r\n",
    "model = BertForQuestionAnswering.from_pretrained('bert-base-uncased')\r\n",
    "model.to(device)\r\n",
    "\r\n",
    "#Criterion, Optimizer and Scheduler\r\n",
    "criterion = nn.CrossEntropyLoss()\r\n",
    "optimizer = AdamW(model.parameters(), lr = learning_rate, correct_bias = False) #default lr  = 5e-5, eps = 1e-8\r\n",
    "total_steps = len(train_loader) * n_epoch\r\n",
    "scheduler = get_linear_schedule_with_warmup(optimizer, num_warmup_steps = 0, num_training_steps = total_steps)\r\n",
    "\r\n",
    "#random seed\r\n",
    "seed_val = 100\r\n",
    "random.seed(seed_val)\r\n",
    "np.random.seed(seed_val)\r\n",
    "torch.manual_seed(seed_val)\r\n",
    "torch.cuda.manual_seed_all(seed_val)\r\n",
    "\r\n",
    "#gradient init\r\n",
    "model.zero_grad()\r\n"
   ],
   "outputs": [],
   "metadata": {}
  },
  {
   "cell_type": "code",
   "execution_count": null,
   "source": [
    "for epoch in range(n_epoch):\r\n",
    "    s"
   ],
   "outputs": [],
   "metadata": {}
  }
 ],
 "metadata": {
  "orig_nbformat": 4,
  "language_info": {
   "name": "python"
  }
 },
 "nbformat": 4,
 "nbformat_minor": 2
}